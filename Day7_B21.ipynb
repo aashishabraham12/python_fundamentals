{
 "cells": [
  {
   "cell_type": "code",
   "execution_count": null,
   "metadata": {},
   "outputs": [],
   "source": [
    "Enhacement of Slicing Concept\n"
   ]
  },
  {
   "cell_type": "code",
   "execution_count": null,
   "metadata": {},
   "outputs": [],
   "source": [
    "Requirement : Get even no. from a list of 1 to 30 by using the concept of list\n",
    "    syntax: list(range(startvar,stopvar,stepcount))"
   ]
  },
  {
   "cell_type": "code",
   "execution_count": 2,
   "metadata": {},
   "outputs": [
    {
     "name": "stdout",
     "output_type": "stream",
     "text": [
      "[2, 4, 6, 8, 10, 12, 14, 16, 18, 20, 22, 24, 26, 28]\n"
     ]
    }
   ],
   "source": [
    "eve_num = list(range(2,30,2))\n",
    "print(eve_num)"
   ]
  },
  {
   "cell_type": "code",
   "execution_count": 3,
   "metadata": {},
   "outputs": [
    {
     "name": "stdout",
     "output_type": "stream",
     "text": [
      "[3, 5, 7, 9, 11, 13, 15, 17, 19, 21, 23, 25, 27, 29]\n"
     ]
    }
   ],
   "source": [
    "#Requirement : Get even no. from a list of 1 to 30 by using the concept of list\n",
    "\n",
    "odd_num = list(range(3,30,2))\n",
    "print(odd_num)"
   ]
  },
  {
   "cell_type": "code",
   "execution_count": 8,
   "metadata": {},
   "outputs": [
    {
     "name": "stdout",
     "output_type": "stream",
     "text": [
      "['bmw', 'benz']\n",
      "['bmw', 'audi', 'jeep']\n"
     ]
    }
   ],
   "source": [
    "cars = ['bmw','benz','audi','kia','jeep','maruthi']\n",
    "# Get two people in a list\n",
    "print(cars[0:2])\n",
    "\n",
    "#get alternative name using step count\n",
    "print(cars[0:6:2])\n"
   ]
  },
  {
   "cell_type": "code",
   "execution_count": null,
   "metadata": {},
   "outputs": [],
   "source": [
    "Introduction to negetive Indexing\n",
    "\n",
    "-ve indexing will start from -1 like -1 -2 -3...... -1 index refer to the last elelment in the list"
   ]
  },
  {
   "cell_type": "code",
   "execution_count": 11,
   "metadata": {},
   "outputs": [
    {
     "name": "stdout",
     "output_type": "stream",
     "text": [
      "maruthi\n",
      "['maruthi', 'jeep', 'kia', 'audi', 'benz', 'bmw']\n"
     ]
    }
   ],
   "source": [
    "cars = ['bmw','benz','audi','kia','jeep','maruthi']\n",
    "print(cars[-1])\n",
    "#req : Print the above list in reverse order using the concept of -ve indexing\n",
    "\n",
    "print(cars[::-1]) # :: means start to end \n",
    "\n"
   ]
  },
  {
   "cell_type": "code",
   "execution_count": null,
   "metadata": {},
   "outputs": [],
   "source": []
  }
 ],
 "metadata": {
  "kernelspec": {
   "display_name": "Python 3",
   "language": "python",
   "name": "python3"
  },
  "language_info": {
   "codemirror_mode": {
    "name": "ipython",
    "version": 3
   },
   "file_extension": ".py",
   "mimetype": "text/x-python",
   "name": "python",
   "nbconvert_exporter": "python",
   "pygments_lexer": "ipython3",
   "version": "3.7.6"
  }
 },
 "nbformat": 4,
 "nbformat_minor": 4
}

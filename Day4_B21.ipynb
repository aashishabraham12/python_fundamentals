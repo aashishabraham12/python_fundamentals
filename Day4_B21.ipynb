{
 "cells": [
  {
   "cell_type": "code",
   "execution_count": 25,
   "metadata": {},
   "outputs": [
    {
     "name": "stdout",
     "output_type": "stream",
     "text": [
      "mango\n",
      "apple\n"
     ]
    }
   ],
   "source": [
    "#list\n",
    "fruits =['mango','apple','orange','kiwi'] #indexing 0,1,2,3\n",
    "type(fruits)\n",
    "print(fruits[0]) #access using indexing\n",
    "print(fruits[1])"
   ]
  },
  {
   "cell_type": "code",
   "execution_count": 13,
   "metadata": {},
   "outputs": [
    {
     "name": "stdout",
     "output_type": "stream",
     "text": [
      "['bmw', 'maruthi', 'honda', 'toyota']\n"
     ]
    },
    {
     "data": {
      "text/plain": [
       "list"
      ]
     },
     "execution_count": 13,
     "metadata": {},
     "output_type": "execute_result"
    }
   ],
   "source": [
    "cars = ['bmw','maruthi','honda','toyota']\n",
    "print(cars)\n",
    "#how to check the type of datatype\n",
    "type(cars)"
   ]
  },
  {
   "cell_type": "code",
   "execution_count": 3,
   "metadata": {},
   "outputs": [
    {
     "name": "stdout",
     "output_type": "stream",
     "text": [
      "['bmw', 'maruthi', 'kia', 'toyota']\n"
     ]
    }
   ],
   "source": [
    "#reassignment (change honda to kia)\n",
    "cars[2]='kia'\n",
    "print(cars)"
   ]
  },
  {
   "cell_type": "code",
   "execution_count": 4,
   "metadata": {},
   "outputs": [
    {
     "name": "stdout",
     "output_type": "stream",
     "text": [
      "['bmw', 'maruthi', 'kia', 'toyota', 'hyundai']\n"
     ]
    }
   ],
   "source": [
    "#add hyundai to the list\n",
    "cars.append('hyundai') #the element is added at the end of the list\n",
    "print(cars)"
   ]
  },
  {
   "cell_type": "code",
   "execution_count": 5,
   "metadata": {},
   "outputs": [
    {
     "name": "stdout",
     "output_type": "stream",
     "text": [
      "['bmw', 'maruthi', 'jaguar', 'kia', 'toyota', 'hyundai']\n"
     ]
    }
   ],
   "source": [
    "#add elelment at a specific index value\n",
    "cars.insert(2,'jaguar') #element is added at the index position 2\n",
    "print(cars)"
   ]
  },
  {
   "cell_type": "code",
   "execution_count": 6,
   "metadata": {},
   "outputs": [
    {
     "name": "stdout",
     "output_type": "stream",
     "text": [
      "['bmw', 'jaguar', 'kia', 'toyota', 'hyundai']\n"
     ]
    }
   ],
   "source": [
    "#delete the element from the list\n",
    "del cars[1] #maruthi at index 1 is deleted from the list\n",
    "print(cars)"
   ]
  },
  {
   "cell_type": "code",
   "execution_count": 12,
   "metadata": {},
   "outputs": [
    {
     "name": "stdout",
     "output_type": "stream",
     "text": [
      "['pant', 'tshirt', 'skirt']\n",
      "coat\n"
     ]
    }
   ],
   "source": [
    "#pop method : pop() is an inbuilt function in Python that removes and returns last value from the list\n",
    "\n",
    "clothes = ['pant','tshirt','skirt','coat']\n",
    "x=clothes.pop() #coat is the last element in the list and is removed and stored in the variable x\n",
    "print(clothes)\n",
    "print(x) # x has the removed element stored"
   ]
  },
  {
   "cell_type": "code",
   "execution_count": null,
   "metadata": {},
   "outputs": [],
   "source": []
  }
 ],
 "metadata": {
  "kernelspec": {
   "display_name": "Python 3",
   "language": "python",
   "name": "python3"
  },
  "language_info": {
   "codemirror_mode": {
    "name": "ipython",
    "version": 3
   },
   "file_extension": ".py",
   "mimetype": "text/x-python",
   "name": "python",
   "nbconvert_exporter": "python",
   "pygments_lexer": "ipython3",
   "version": "3.7.6"
  }
 },
 "nbformat": 4,
 "nbformat_minor": 4
}

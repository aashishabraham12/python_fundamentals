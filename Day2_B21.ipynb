{
 "cells": [
  {
   "cell_type": "code",
   "execution_count": 1,
   "metadata": {},
   "outputs": [
    {
     "data": {
      "text/plain": [
       "8"
      ]
     },
     "execution_count": 1,
     "metadata": {},
     "output_type": "execute_result"
    }
   ],
   "source": [
    "#Inroduction to variables\n",
    "x=5\n",
    "y=3\n",
    "x+y"
   ]
  },
  {
   "cell_type": "code",
   "execution_count": 7,
   "metadata": {},
   "outputs": [
    {
     "name": "stdout",
     "output_type": "stream",
     "text": [
      "aashish\n",
      "abraham\n",
      "aashish\n"
     ]
    }
   ],
   "source": [
    "#rules for declaring variables\n",
    "#rule 1\n",
    "first_name='aashish'\n",
    "print(first_name)\n",
    "\n",
    "firstname='abraham'\n",
    "print(firstname)\n",
    "\n",
    "#rule 2\n",
    "\n",
    "name1='aashish'\n",
    "print(name1)\n"
   ]
  },
  {
   "cell_type": "code",
   "execution_count": null,
   "metadata": {},
   "outputs": [],
   "source": [
    "#rule 3\n",
    "\n",
    "name@='aashish'    #wrong way\n",
    "print(name@)"
   ]
  },
  {
   "cell_type": "code",
   "execution_count": 10,
   "metadata": {},
   "outputs": [
    {
     "name": "stdout",
     "output_type": "stream",
     "text": [
      "aa\n",
      "bb\n",
      "cc\n"
     ]
    }
   ],
   "source": [
    "#intro to string datatypes\n",
    "#single quote\n",
    "name='aa'\n",
    "print(name)\n",
    "#double quote\n",
    "name1=\"bb\"\n",
    "print(name1)\n",
    "#triple quote\n",
    "name2=\"\"\"cc\"\"\"\n",
    "print(name2)"
   ]
  },
  {
   "cell_type": "code",
   "execution_count": 11,
   "metadata": {},
   "outputs": [
    {
     "data": {
      "text/plain": [
       "str"
      ]
     },
     "execution_count": 11,
     "metadata": {},
     "output_type": "execute_result"
    }
   ],
   "source": [
    "#verify datatype\n",
    "type(name)"
   ]
  },
  {
   "cell_type": "code",
   "execution_count": 17,
   "metadata": {},
   "outputs": [
    {
     "name": "stdout",
     "output_type": "stream",
     "text": [
      "aashish ABRAHAM\n",
      "Aashish Abraham\n",
      "AASHISH ABRAHAM\n",
      "aashish abraham\n"
     ]
    }
   ],
   "source": [
    "#enhancement of code\n",
    "name='aashish ABRAHAM'\n",
    "print(name)\n",
    "#using title\n",
    "print(name.title())\n",
    "#using upper for uppercase, result with all in uppercase letters\n",
    "print(name.upper())\n",
    "#using lower for lowercase ,result with all in lowercase letters\n",
    "print(name.lower())"
   ]
  },
  {
   "cell_type": "code",
   "execution_count": null,
   "metadata": {},
   "outputs": [],
   "source": []
  }
 ],
 "metadata": {
  "kernelspec": {
   "display_name": "Python 3",
   "language": "python",
   "name": "python3"
  },
  "language_info": {
   "codemirror_mode": {
    "name": "ipython",
    "version": 3
   },
   "file_extension": ".py",
   "mimetype": "text/x-python",
   "name": "python",
   "nbconvert_exporter": "python",
   "pygments_lexer": "ipython3",
   "version": "3.7.6"
  }
 },
 "nbformat": 4,
 "nbformat_minor": 4
}

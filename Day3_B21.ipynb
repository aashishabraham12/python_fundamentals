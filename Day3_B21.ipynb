{
 "cells": [
  {
   "cell_type": "code",
   "execution_count": 4,
   "metadata": {},
   "outputs": [
    {
     "name": "stdout",
     "output_type": "stream",
     "text": [
      "aashish abraham\n"
     ]
    }
   ],
   "source": [
    "#Inroduction to f strings\n",
    "\n",
    "first_name = 'aashish'\n",
    "last_name = 'abraham'\n",
    "full_name = f\"{first_name} {last_name}\" #use of f strings\n",
    "print(full_name)"
   ]
  },
  {
   "cell_type": "code",
   "execution_count": 7,
   "metadata": {},
   "outputs": [
    {
     "name": "stdout",
     "output_type": "stream",
     "text": [
      "Aashish Abraham\n",
      "AASHISH ABRAHAM\n",
      "aashish abraham\n"
     ]
    }
   ],
   "source": [
    "#enhancement of code\n",
    "print(full_name.title())\n",
    "print(full_name.upper())\n",
    "print(full_name.lower())"
   ]
  },
  {
   "cell_type": "code",
   "execution_count": 12,
   "metadata": {},
   "outputs": [
    {
     "name": "stdout",
     "output_type": "stream",
     "text": [
      "Hi there aashish abraham\n",
      "Hi there Aashish Abraham\n"
     ]
    }
   ],
   "source": [
    "#further enhancement\n",
    "\n",
    "print(f\"Hi there {full_name}\")\n",
    "print(f\"Hi there {full_name.title()}\")\n",
    "\n"
   ]
  },
  {
   "cell_type": "code",
   "execution_count": 16,
   "metadata": {},
   "outputs": [
    {
     "name": "stdout",
     "output_type": "stream",
     "text": [
      "\taashish\n",
      "Favrt_fruit :\n",
      "Mango\n",
      "Apple\n",
      "Orange\n",
      "Kiwi\n",
      "Favrt_fruit :\n",
      "\tMango\n",
      "\tApple\n",
      "\tOrange\n",
      "\tKiwi\n"
     ]
    }
   ],
   "source": [
    "#Adding white spaces\n",
    "print('\\taashish') #tab delimiter\n",
    "print('Favrt_fruit :\\nMango\\nApple\\nOrange\\nKiwi') #new line delimiter\n",
    "print('Favrt_fruit :\\n\\tMango\\n\\tApple\\n\\tOrange\\n\\tKiwi') #new line delimiter\n",
    "\n"
   ]
  },
  {
   "cell_type": "code",
   "execution_count": 26,
   "metadata": {},
   "outputs": [
    {
     "name": "stdout",
     "output_type": "stream",
     "text": [
      "         aashish\n",
      "aashish\n",
      "abraham\n"
     ]
    }
   ],
   "source": [
    "#Removing white spaces\n",
    "name1 = '         aashish'\n",
    "print(name1)\n",
    "print(name1.lstrip())\n",
    "name2='abraham    '\n",
    "print(name2.rstrip())"
   ]
  }
 ],
 "metadata": {
  "kernelspec": {
   "display_name": "Python 3",
   "language": "python",
   "name": "python3"
  },
  "language_info": {
   "codemirror_mode": {
    "name": "ipython",
    "version": 3
   },
   "file_extension": ".py",
   "mimetype": "text/x-python",
   "name": "python",
   "nbconvert_exporter": "python",
   "pygments_lexer": "ipython3",
   "version": "3.7.6"
  }
 },
 "nbformat": 4,
 "nbformat_minor": 4
}

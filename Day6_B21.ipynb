{
 "cells": [
  {
   "cell_type": "code",
   "execution_count": 27,
   "metadata": {},
   "outputs": [
    {
     "name": "stdout",
     "output_type": "stream",
     "text": [
      "Bmw,Is one of the best car\n",
      "Bmw,provides a very good mileage\n",
      "Benz,Is one of the best car\n",
      "Benz,provides a very good mileage\n",
      "Audi,Is one of the best car\n",
      "Audi,provides a very good mileage\n",
      "Kia,Is one of the best car\n",
      "Kia,provides a very good mileage\n",
      "Bmw,Is one of the best car\n",
      "Bmw,provides a very good mileage\n",
      "\n",
      "Benz,Is one of the best car\n",
      "Benz,provides a very good mileage\n",
      "\n",
      "Audi,Is one of the best car\n",
      "Audi,provides a very good mileage\n",
      "\n",
      "Kia,Is one of the best car\n",
      "Kia,provides a very good mileage\n",
      "\n"
     ]
    }
   ],
   "source": [
    "#Continuation the for loop\n",
    "\n",
    "\n",
    "#requirement\n",
    "\n",
    "#1. Appreciate the studets\n",
    "#2. Telling students to send them today\n",
    "\n",
    "cars = ['bmw','benz','audi','kia'] \n",
    "\n",
    "for x in cars:\n",
    "    print(f\"{x.title()},Is one of the best car\")\n",
    "    print(f\"{x.title()},provides a very good mileage\")\n",
    "    \n",
    "#enhancement of the code\n",
    "\n",
    "for x in cars:\n",
    "    print(f\"{x.title()},Is one of the best car\")\n",
    "    print(f\"{x.title()},provides a very good mileage\\n\") #use of new line deleimter\n"
   ]
  },
  {
   "cell_type": "code",
   "execution_count": 29,
   "metadata": {},
   "outputs": [
    {
     "name": "stdout",
     "output_type": "stream",
     "text": [
      "Bmw,Is one of the best car\n",
      "Bmw,provides a very good mileage\n",
      "\n",
      "Benz,Is one of the best car\n",
      "Benz,provides a very good mileage\n",
      "\n",
      "Audi,Is one of the best car\n",
      "Audi,provides a very good mileage\n",
      "\n",
      "Kia,Is one of the best car\n",
      "Kia,provides a very good mileage\n",
      "\n",
      "Thank you for buying these cars\n"
     ]
    }
   ],
   "source": [
    "# Generic message to all the participants\n",
    "\n",
    "for x in cars:\n",
    "    print(f\"{x.title()},Is one of the best car\")\n",
    "    print(f\"{x.title()},provides a very good mileage\\n\") #use of new line deleimter\n",
    "print('Thank you for buying these cars') #generic message\n",
    "\n"
   ]
  },
  {
   "cell_type": "code",
   "execution_count": null,
   "metadata": {},
   "outputs": [],
   "source": [
    " Introduction to if-else conditions"
   ]
  },
  {
   "cell_type": "code",
   "execution_count": null,
   "metadata": {},
   "outputs": [],
   "source": [
    "\n",
    "\n",
    "#syntax: if x(condition block):\n",
    "        #print('if')\n",
    "        #else\n",
    "        #print('else')\n"
   ]
  },
  {
   "cell_type": "code",
   "execution_count": null,
   "metadata": {},
   "outputs": [],
   "source": [
    "#req : When ever benz comes print BENZ and print all other items with title case"
   ]
  },
  {
   "cell_type": "code",
   "execution_count": 22,
   "metadata": {},
   "outputs": [
    {
     "name": "stdout",
     "output_type": "stream",
     "text": [
      "bmw\n",
      "BENZ\n",
      "audi\n",
      "kia\n",
      "mg\n"
     ]
    }
   ],
   "source": [
    "cars = ['bmw','benz','audi','kia','mg'] \n",
    "for x in cars:\n",
    "    if x=='benz':\n",
    "        print(x.upper())\n",
    "    else:\n",
    "        print(x.lower())"
   ]
  },
  {
   "cell_type": "code",
   "execution_count": null,
   "metadata": {},
   "outputs": [],
   "source": [
    "Introduction to slicing of list"
   ]
  },
  {
   "cell_type": "code",
   "execution_count": 24,
   "metadata": {},
   "outputs": [
    {
     "name": "stdout",
     "output_type": "stream",
     "text": [
      "['bmw']\n",
      "['bmw', 'kia']\n"
     ]
    }
   ],
   "source": [
    "#syntax: mainvar[startval:stopval:stepcount]\n",
    "\n",
    "cars = ['bmw','kia','audi','mg'] #totally based on indexing\n",
    "\n",
    "\n",
    "#req1 : include bmw and kia in a single group\n",
    "\n",
    "print(cars[0:1]) \n",
    "print(cars[0:2]) #last value is always exclusive"
   ]
  },
  {
   "cell_type": "code",
   "execution_count": null,
   "metadata": {},
   "outputs": [],
   "source": []
  }
 ],
 "metadata": {
  "kernelspec": {
   "display_name": "Python 3",
   "language": "python",
   "name": "python3"
  },
  "language_info": {
   "codemirror_mode": {
    "name": "ipython",
    "version": 3
   },
   "file_extension": ".py",
   "mimetype": "text/x-python",
   "name": "python",
   "nbconvert_exporter": "python",
   "pygments_lexer": "ipython3",
   "version": "3.7.6"
  }
 },
 "nbformat": 4,
 "nbformat_minor": 4
}

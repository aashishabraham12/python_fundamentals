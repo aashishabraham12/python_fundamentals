{
 "cells": [
  {
   "cell_type": "code",
   "execution_count": null,
   "metadata": {},
   "outputs": [],
   "source": [
    "Organising List"
   ]
  },
  {
   "cell_type": "code",
   "execution_count": 16,
   "metadata": {},
   "outputs": [
    {
     "name": "stdout",
     "output_type": "stream",
     "text": [
      "['benz', 'bmw', 'kia', 'maruthi', 'mg']\n",
      "['bmw', 'kia', 'maruthi', 'benz', 'mg']\n",
      "['benz', 'bmw', 'kia', 'maruthi', 'mg']\n"
     ]
    }
   ],
   "source": [
    "cars= ['bmw','kia','maruthi','benz','mg']\n",
    "\n",
    "#requirement : Organise in alphabetical order\n",
    "#Temp Method\n",
    "print(sorted(cars)) # syntax : print(sorted(list))\n",
    "print(cars)\n",
    "#Permanent Method\n",
    "\n",
    "cars.sort() #permanent change  syantax: list.sort()\n",
    "print(cars)\n"
   ]
  },
  {
   "cell_type": "code",
   "execution_count": 28,
   "metadata": {},
   "outputs": [
    {
     "name": "stdout",
     "output_type": "stream",
     "text": [
      "['mg', 'maruthi', 'kia', 'bmw', 'benz']\n"
     ]
    },
    {
     "data": {
      "text/plain": [
       "5"
      ]
     },
     "execution_count": 28,
     "metadata": {},
     "output_type": "execute_result"
    }
   ],
   "source": [
    "#Print list in reverse order \n",
    "\n",
    "cars.reverse()\n",
    "print(cars)\n",
    "\n",
    "# Print the no. of elements in the list\n",
    "\n",
    "len(cars) # len is used to provide the no. of elements in a list , does not require a print similar to str."
   ]
  },
  {
   "cell_type": "code",
   "execution_count": null,
   "metadata": {},
   "outputs": [],
   "source": [
    "Introduction to for loops"
   ]
  },
  {
   "cell_type": "code",
   "execution_count": 26,
   "metadata": {},
   "outputs": [
    {
     "name": "stdout",
     "output_type": "stream",
     "text": [
      "I like to eat,AAPLE\n",
      "I like to eat,MANGO\n",
      "I like to eat,KIWI\n",
      "I like to eat,PEACH\n",
      "I like to eat,WATERMELON\n"
     ]
    }
   ],
   "source": [
    "fruits=['aaple','mango','kiwi','peach','watermelon']\n",
    "for x in fruits:\n",
    "    print(f\"I like to eat,{x.upper()}\") # the temp variable should be a part of the print statement\n",
    "    # f\"{static statement,{placeholder}}\" #use of f strings"
   ]
  },
  {
   "cell_type": "code",
   "execution_count": 30,
   "metadata": {},
   "outputs": [
    {
     "name": "stdout",
     "output_type": "stream",
     "text": [
      "aashish\n"
     ]
    }
   ],
   "source": [
    "#Using strip # use in case the space at left or rigt of a string is not known\n",
    "name = '          aashish                  '\n",
    "print(name.strip()) #using strip in place of lstrip(left) and rstrip(right)"
   ]
  },
  {
   "cell_type": "code",
   "execution_count": null,
   "metadata": {},
   "outputs": [],
   "source": []
  },
  {
   "cell_type": "code",
   "execution_count": null,
   "metadata": {},
   "outputs": [],
   "source": []
  },
  {
   "cell_type": "code",
   "execution_count": null,
   "metadata": {},
   "outputs": [],
   "source": []
  }
 ],
 "metadata": {
  "kernelspec": {
   "display_name": "Python 3",
   "language": "python",
   "name": "python3"
  },
  "language_info": {
   "codemirror_mode": {
    "name": "ipython",
    "version": 3
   },
   "file_extension": ".py",
   "mimetype": "text/x-python",
   "name": "python",
   "nbconvert_exporter": "python",
   "pygments_lexer": "ipython3",
   "version": "3.7.6"
  }
 },
 "nbformat": 4,
 "nbformat_minor": 4
}
